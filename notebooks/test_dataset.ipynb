{
 "cells": [
  {
   "cell_type": "code",
   "execution_count": 1,
   "id": "elegant-wallace",
   "metadata": {},
   "outputs": [],
   "source": [
    "%load_ext autoreload\n",
    "%autoreload 2"
   ]
  },
  {
   "cell_type": "code",
   "execution_count": 2,
   "id": "written-score",
   "metadata": {},
   "outputs": [],
   "source": [
    "import sys, os\n",
    "sys.path.append('..')\n",
    "\n",
    "import numpy as np\n",
    "import librosa as lr\n",
    "import torch\n",
    "import IPython.display as ipd\n",
    "\n",
    "from datasets.nsynth_datamodule import NsynthDataModule"
   ]
  },
  {
   "cell_type": "code",
   "execution_count": 5,
   "id": "expressed-glance",
   "metadata": {},
   "outputs": [],
   "source": [
    "configs = {\n",
    "    'dataset_path': '/data/riccardo_datasets',\n",
    "    'feature': 'spec',\n",
    "    'feature_params': {\n",
    "        'win_length': 256,\n",
    "        'hop_length': 64\n",
    "    },\n",
    "    'n_fft': 256,\n",
    "    'ds_kwargs': {\n",
    "        'pitches': [60, 61, 62],\n",
    "        'duration': 2\n",
    "    }\n",
    "}"
   ]
  },
  {
   "cell_type": "code",
   "execution_count": 6,
   "id": "coordinated-affair",
   "metadata": {},
   "outputs": [
    {
     "name": "stdout",
     "output_type": "stream",
     "text": [
      "{'win_length': 256, 'hop_length': 64}\n",
      "/data/riccardo_datasets/nsynth-test/examples.json\n"
     ]
    },
    {
     "name": "stderr",
     "output_type": "stream",
     "text": [
      "/home/rmicci18/miniconda3/envs/sound_morph/lib/python3.8/site-packages/torch/functional.py:515: UserWarning: The function torch.rfft is deprecated and will be removed in a future PyTorch release. Use the new torch.fft module functions, instead, by importing torch.fft and calling torch.fft.fft or torch.fft.rfft. (Triggered internally at  /opt/conda/conda-bld/pytorch_1607369981906/work/aten/src/ATen/native/SpectralOps.cpp:590.)\n",
      "  return _VF.stft(input, n_fft, hop_length, win_length, window,  # type: ignore\n"
     ]
    }
   ],
   "source": [
    "dm = NsynthDataModule(configs, num_workers=0, batch_size=4)\n",
    "dm.setup('test')\n",
    "dl = dm.test_dataloader()"
   ]
  },
  {
   "cell_type": "code",
   "execution_count": 7,
   "id": "entire-convergence",
   "metadata": {},
   "outputs": [
    {
     "data": {
      "text/plain": [
       "torch.Size([4, 129, 501, 2])"
      ]
     },
     "execution_count": 7,
     "metadata": {},
     "output_type": "execute_result"
    }
   ],
   "source": [
    "a = next(iter(dl))\n",
    "a[0].shape"
   ]
  },
  {
   "cell_type": "code",
   "execution_count": 9,
   "id": "changed-choice",
   "metadata": {},
   "outputs": [
    {
     "data": {
      "text/plain": [
       "{'qualities': [tensor([0, 0, 0, 0]),\n",
       "  tensor([1, 0, 0, 1]),\n",
       "  tensor([0, 0, 0, 0]),\n",
       "  tensor([0, 0, 0, 0]),\n",
       "  tensor([0, 0, 0, 0]),\n",
       "  tensor([0, 0, 0, 0]),\n",
       "  tensor([0, 0, 0, 0]),\n",
       "  tensor([0, 0, 0, 0]),\n",
       "  tensor([0, 1, 1, 0]),\n",
       "  tensor([0, 0, 0, 0])],\n",
       " 'pitch': tensor([60, 61, 62, 61]),\n",
       " 'note': tensor([248525,  74272,  27009, 259543]),\n",
       " 'instrument_source_str': ['electronic', 'acoustic', 'acoustic', 'electronic'],\n",
       " 'velocity': tensor([127,  75, 127, 100]),\n",
       " 'instrument_str': ['organ_electronic_001',\n",
       "  'guitar_acoustic_015',\n",
       "  'brass_acoustic_015',\n",
       "  'organ_electronic_057'],\n",
       " 'instrument': tensor([  8, 316, 121, 701]),\n",
       " 'sample_rate': tensor([16000, 16000, 16000, 16000]),\n",
       " 'instrument_source': tensor([1, 0, 0, 1]),\n",
       " 'note_str': ['organ_electronic_001-060-127',\n",
       "  'guitar_acoustic_015-061-075',\n",
       "  'brass_acoustic_015-062-127',\n",
       "  'organ_electronic_057-061-100'],\n",
       " 'instrument_family': tensor([6, 3, 1, 6]),\n",
       " 'instrument_family_str': ['organ', 'guitar', 'brass', 'organ']}"
      ]
     },
     "execution_count": 9,
     "metadata": {},
     "output_type": "execute_result"
    }
   ],
   "source": [
    "a[1]"
   ]
  },
  {
   "cell_type": "code",
   "execution_count": 8,
   "id": "fixed-cabinet",
   "metadata": {},
   "outputs": [
    {
     "name": "stderr",
     "output_type": "stream",
     "text": [
      "/home/rmicci18/miniconda3/envs/sound_morph/lib/python3.8/site-packages/torch/functional.py:586: UserWarning: The function torch.irfft is deprecated and will be removed in a future PyTorch release. Use the new torch.fft module functions, instead, by importing torch.fft and calling torch.fft.ifft or torch.fft.irfft. (Triggered internally at  /opt/conda/conda-bld/pytorch_1607369981906/work/aten/src/ATen/native/SpectralOps.cpp:602.)\n",
      "  return _VF.istft(input, n_fft, hop_length, win_length, window, center,  # type: ignore\n"
     ]
    },
    {
     "data": {
      "text/plain": [
       "torch.Size([4, 32000])"
      ]
     },
     "execution_count": 8,
     "metadata": {},
     "output_type": "execute_result"
    }
   ],
   "source": [
    "aa = torch.istft(a[0], n_fft=256, win_length=256, hop_length=64)\n",
    "aa.shape"
   ]
  },
  {
   "cell_type": "code",
   "execution_count": null,
   "id": "novel-monday",
   "metadata": {},
   "outputs": [],
   "source": []
  }
 ],
 "metadata": {
  "kernelspec": {
   "display_name": "Python 3",
   "language": "python",
   "name": "python3"
  },
  "language_info": {
   "codemirror_mode": {
    "name": "ipython",
    "version": 3
   },
   "file_extension": ".py",
   "mimetype": "text/x-python",
   "name": "python",
   "nbconvert_exporter": "python",
   "pygments_lexer": "ipython3",
   "version": "3.8.6"
  }
 },
 "nbformat": 4,
 "nbformat_minor": 5
}
