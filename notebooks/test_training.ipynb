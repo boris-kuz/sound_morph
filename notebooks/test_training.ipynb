{
 "cells": [
  {
   "cell_type": "code",
   "execution_count": 30,
   "id": "champion-going",
   "metadata": {},
   "outputs": [
    {
     "name": "stdout",
     "output_type": "stream",
     "text": [
      "The autoreload extension is already loaded. To reload it, use:\n",
      "  %reload_ext autoreload\n"
     ]
    }
   ],
   "source": [
    "%load_ext autoreload\n",
    "%autoreload 2"
   ]
  },
  {
   "cell_type": "code",
   "execution_count": 31,
   "id": "increased-baptist",
   "metadata": {},
   "outputs": [
    {
     "name": "stderr",
     "output_type": "stream",
     "text": [
      "Global seed set to 42\n"
     ]
    },
    {
     "data": {
      "text/plain": [
       "42"
      ]
     },
     "execution_count": 31,
     "metadata": {},
     "output_type": "execute_result"
    }
   ],
   "source": [
    "import sys, os\n",
    "sys.path.append('..')\n",
    "\n",
    "import numpy as np\n",
    "import librosa as lr\n",
    "import torch\n",
    "import IPython.display as ipd\n",
    "import matplotlib.pyplot as plt\n",
    "import pytorch_lightning as pl\n",
    "\n",
    "from scipy.signal.windows import hann\n",
    "from pytorch_lightning.loggers import TensorBoardLogger\n",
    "from pytorch_lightning.callbacks import LearningRateMonitor, EarlyStopping\n",
    "\n",
    "from datasets.nsynth_datamodule import NsynthDataModule\n",
    "from models.cvae_resnet import CvaeResnet\n",
    "from models.cvae_inception import CvaeInception\n",
    "\n",
    "pl.seed_everything(42)"
   ]
  },
  {
   "cell_type": "code",
   "execution_count": 12,
   "id": "proof-resident",
   "metadata": {},
   "outputs": [
    {
     "name": "stdout",
     "output_type": "stream",
     "text": [
      "1\n"
     ]
    }
   ],
   "source": [
    "torch.cuda.set_device(1)\n",
    "print(torch.cuda.current_device())\n"
   ]
  },
  {
   "cell_type": "code",
   "execution_count": 32,
   "id": "invalid-radical",
   "metadata": {},
   "outputs": [],
   "source": [
    "### CONFIGS\n",
    "\n",
    "model_type = 'incept'\n",
    "num_workers = 8\n",
    "batch_size = 16\n",
    "max_epochs = 20000\n",
    "patience = 750\n",
    "gpus = '1'\n",
    "\n",
    "ds_configs = {\n",
    "    'dataset_path': '/data/riccardo_datasets',\n",
    "    'feature': 'spec',\n",
    "    'feature_params': {\n",
    "        'win_length': 256,\n",
    "        'hop_length': 64,\n",
    "        'window': hann(256)\n",
    "    },\n",
    "    'n_fft': 510,\n",
    "    'ds_kwargs': {\n",
    "        #'pitches': [60],\n",
    "        #'instrument_families': [0],\n",
    "        'sr': 16000,\n",
    "        'duration': 1.02\n",
    "    }\n",
    "}\n",
    "\n",
    "m_configs_incept = {\n",
    "    'lr': 1e-3,\n",
    "    'lr_scheduler': {\n",
    "        'factor': 10**(-1/3), \n",
    "        'patience': 200,\n",
    "        'cooldown': 100,\n",
    "        'min_lr': 1e-5\n",
    "    },\n",
    "    'c_labels': ['pitch'],\n",
    "    'kl_coeff': 1e-4,\n",
    "    'db_coeff': 5e-3,\n",
    "    'latent_size': 32,\n",
    "    'channel_size': 2,\n",
    "    'use_inception': True,\n",
    "    'repeat_per_block': 1,\n",
    "    'dense_size': 256,\n",
    "}\n"
   ]
  },
  {
   "cell_type": "code",
   "execution_count": 25,
   "id": "double-telephone",
   "metadata": {},
   "outputs": [],
   "source": [
    "# init model\n",
    "model = CvaeInception(m_configs_incept)"
   ]
  },
  {
   "cell_type": "code",
   "execution_count": 26,
   "id": "thirty-canyon",
   "metadata": {},
   "outputs": [],
   "source": [
    "# logger\n",
    "log_name = '{}_{}'.format(CvaeInception.model_name, 'test_pitches')\n",
    "logger = TensorBoardLogger('logs', name=log_name)"
   ]
  },
  {
   "cell_type": "code",
   "execution_count": 36,
   "id": "entitled-banana",
   "metadata": {},
   "outputs": [],
   "source": [
    "# init data loader\n",
    "dm = NsynthDataModule(ds_configs, num_workers=num_workers, batch_size=batch_size)"
   ]
  },
  {
   "cell_type": "code",
   "execution_count": null,
   "id": "incident-vegetarian",
   "metadata": {},
   "outputs": [],
   "source": [
    "# callbacks\n",
    "early_stop = EarlyStopping(monitor='val_loss', patience=patience)\n",
    "lr_monitor = LearningRateMonitor(logging_interval='epoch')\n",
    "\n",
    "# train!\n",
    "trainer = pl.Trainer(\n",
    "#    weights_summary='full',\n",
    "#    overfit_batches=1,\n",
    "#    terminate_on_nan=False,\n",
    "#    gradient_clip_val=0.5,\n",
    "    max_epochs=max_epochs,\n",
    "    callbacks=[early_stop, lr_monitor],\n",
    "    logger=logger,\n",
    "    gpus=gpus)\n",
    "trainer.fit(model=model, datamodule=dm)"
   ]
  },
  {
   "cell_type": "code",
   "execution_count": null,
   "id": "packed-mechanism",
   "metadata": {},
   "outputs": [
    {
     "name": "stderr",
     "output_type": "stream",
     "text": [
      "\n",
      "  | Name      | Type    | Params\n",
      "--------------------------------------\n",
      "0 | encoder   | Encoder | 3.8 M \n",
      "1 | fc_mu     | Linear  | 8.3 K \n",
      "2 | fc_logvar | Linear  | 8.3 K \n",
      "3 | fc_rep    | Linear  | 8.7 K \n",
      "4 | decoder   | Decoder | 2.2 M \n",
      "--------------------------------------\n",
      "5.9 M     Trainable params\n",
      "0         Non-trainable params\n",
      "5.9 M     Total params\n"
     ]
    },
    {
     "data": {
      "application/vnd.jupyter.widget-view+json": {
       "model_id": "",
       "version_major": 2,
       "version_minor": 0
      },
      "text/plain": [
       "Validation sanity check: 0it [00:00, ?it/s]"
      ]
     },
     "metadata": {},
     "output_type": "display_data"
    },
    {
     "data": {
      "application/vnd.jupyter.widget-view+json": {
       "model_id": "831666ce269c4066b30a234e8b890c42",
       "version_major": 2,
       "version_minor": 0
      },
      "text/plain": [
       "Training: 791it [00:00, ?it/s]"
      ]
     },
     "metadata": {},
     "output_type": "display_data"
    },
    {
     "data": {
      "application/vnd.jupyter.widget-view+json": {
       "model_id": "",
       "version_major": 2,
       "version_minor": 0
      },
      "text/plain": [
       "Validating: 0it [00:00, ?it/s]"
      ]
     },
     "metadata": {},
     "output_type": "display_data"
    },
    {
     "data": {
      "application/vnd.jupyter.widget-view+json": {
       "model_id": "6e657b8ae54c4f4ca265bc974ae9b99d",
       "version_major": 2,
       "version_minor": 0
      },
      "text/plain": [
       "Validating: 0it [00:00, ?it/s]"
      ]
     },
     "metadata": {},
     "output_type": "display_data"
    }
   ],
   "source": [
    "trainer.fit(model=model, datamodule=dm)"
   ]
  },
  {
   "cell_type": "code",
   "execution_count": null,
   "id": "unique-discretion",
   "metadata": {},
   "outputs": [],
   "source": [
    "# callbacks\n",
    "lr_monitor = LearningRateMonitor(logging_interval='epoch')\n",
    "\n",
    "# train!\n",
    "trainer = pl.Trainer(\n",
    "    max_epochs=20000,\n",
    "    overfit_batches=1,\n",
    "    callbacks=[lr_monitor],\n",
    "    gpus=gpus)\n",
    "trainer.fit(model=model, datamodule=dm)"
   ]
  },
  {
   "cell_type": "code",
   "execution_count": null,
   "id": "veterinary-stroke",
   "metadata": {},
   "outputs": [],
   "source": []
  }
 ],
 "metadata": {
  "kernelspec": {
   "display_name": "Python 3",
   "language": "python",
   "name": "python3"
  },
  "language_info": {
   "codemirror_mode": {
    "name": "ipython",
    "version": 3
   },
   "file_extension": ".py",
   "mimetype": "text/x-python",
   "name": "python",
   "nbconvert_exporter": "python",
   "pygments_lexer": "ipython3",
   "version": "3.8.6"
  }
 },
 "nbformat": 4,
 "nbformat_minor": 5
}
